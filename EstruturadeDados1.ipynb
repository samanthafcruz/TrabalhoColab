{
  "nbformat": 4,
  "nbformat_minor": 0,
  "metadata": {
    "colab": {
      "provenance": [],
      "authorship_tag": "ABX9TyOWjjXIVfJTn8V0imySvSvO",
      "include_colab_link": true
    },
    "kernelspec": {
      "name": "python3",
      "display_name": "Python 3"
    },
    "language_info": {
      "name": "python"
    }
  },
  "cells": [
    {
      "cell_type": "markdown",
      "metadata": {
        "id": "view-in-github",
        "colab_type": "text"
      },
      "source": [
        "<a href=\"https://colab.research.google.com/github/samanthafcruz/TrabalhoColab/blob/main/EstruturadeDados1.ipynb\" target=\"_parent\"><img src=\"https://colab.research.google.com/assets/colab-badge.svg\" alt=\"Open In Colab\"/></a>"
      ]
    },
    {
      "cell_type": "markdown",
      "source": [
        "1) Crie um vetor de inteiros ( int ) de 10 posições. Preencha-o com os valores 10 , 20 , 30 , 40 , 50 , 60 , 70 , 80 , 90 e 100 . Use um for para exibir os valores deste vetor"
      ],
      "metadata": {
        "id": "xC9i3yQ6EZua"
      }
    },
    {
      "cell_type": "code",
      "source": [
        "vetor = [10, 20, 30, 40, 50, 60, 70, 80, 90, 100]\n",
        "\n",
        "for i in vetor:\n",
        "  print(i)"
      ],
      "metadata": {
        "colab": {
          "base_uri": "https://localhost:8080/"
        },
        "id": "TuPhUTjcEn56",
        "outputId": "bfc3801b-0c35-4c15-8969-d3917d0aedde"
      },
      "execution_count": 1,
      "outputs": [
        {
          "output_type": "stream",
          "name": "stdout",
          "text": [
            "10\n",
            "20\n",
            "30\n",
            "40\n",
            "50\n",
            "60\n",
            "70\n",
            "80\n",
            "90\n",
            "100\n"
          ]
        }
      ]
    },
    {
      "cell_type": "markdown",
      "source": [
        "2) Crie uma matriz de caracteres ( char ) de 16 posições (4x4). Preencha-a com os valores a , b , c , d , e , f , g , h , i , j , k , l , m , n , o e p . Use dois for para exibir os valores desta matriz.\n",
        "\n"
      ],
      "metadata": {
        "id": "OzK8coQyEuYT"
      }
    },
    {
      "cell_type": "code",
      "source": [
        "matriz = [\n",
        "    ['a', 'b', 'c', 'd'],\n",
        "    ['e', 'f', 'g', 'h'],\n",
        "    ['i', 'j', 'k', 'l'],\n",
        "    ['m', 'n', 'o', 'p']\n",
        "]\n",
        "\n",
        "\n",
        "print(\"Matriz 4x4 de caracteres:\")\n",
        "for i in range(4):\n",
        "    for j in range(4):\n",
        "        print(matriz[i][j], end=' ')\n",
        "    print()\n"
      ],
      "metadata": {
        "colab": {
          "base_uri": "https://localhost:8080/"
        },
        "id": "BoJ9V8o6EvIx",
        "outputId": "7b1eb899-08b5-4316-f3e3-1b4337433998"
      },
      "execution_count": 2,
      "outputs": [
        {
          "output_type": "stream",
          "name": "stdout",
          "text": [
            "Matriz 4x4 de caracteres:\n",
            "a b c d \n",
            "e f g h \n",
            "i j k l \n",
            "m n o p \n"
          ]
        }
      ]
    },
    {
      "cell_type": "markdown",
      "source": [
        "3) Faça um programa com um vetor com 10 elementos inteiros positivos (aleatórios e de sua escolha). Permita que seja solicitado um determinado valor inteiro e positivo para ser procurado neste vetor. Caso exista, o programa deve exibir o índice no qual o valor está posicionado. Caso contrário, o programa deve informar que o elemento não existe no vetor"
      ],
      "metadata": {
        "id": "M_ZN-xZFE75J"
      }
    },
    {
      "cell_type": "code",
      "source": [
        "vetor = [1, 2, 3, 4, 5, 6, 7, 8, 9, 10]\n",
        "\n",
        "numero = int(input(\"Digite um número inteiro positivo: \"))\n",
        "\n",
        "\n",
        "if numero in vetor:\n",
        "    indice = vetor.index(numero)\n",
        "    print(f\"O índice do número {numero} no vetor é: {indice}\")\n",
        "else:\n",
        "    print(\"Número não encontrado no vetor.\")"
      ],
      "metadata": {
        "colab": {
          "base_uri": "https://localhost:8080/"
        },
        "id": "DTcOXIPHE-Cx",
        "outputId": "510f9c08-10af-4d98-b310-415a4a4b224c"
      },
      "execution_count": 3,
      "outputs": [
        {
          "output_type": "stream",
          "name": "stdout",
          "text": [
            "Digite um número inteiro positivo: 10\n",
            "O índice do número 10 no vetor é: 9\n"
          ]
        }
      ]
    },
    {
      "cell_type": "markdown",
      "source": [
        "4) Faça um programa com uma matriz com 9 elementos (3x3) reais positivos (aleatórios e de sua escolha). Calcule e exiba a soma dos elementos de cada linha desta matriz"
      ],
      "metadata": {
        "id": "kR630BpOFFDz"
      }
    },
    {
      "cell_type": "code",
      "source": [
        "matriz = [1, 2, 3, 4, 5, 6, 7, 8, 9]\n",
        "matriz = [matriz[i:i+3] for i in range(0, 9, 3)]\n",
        "\n",
        "print(\"Matriz 3x3 de reais:\")\n",
        "for linha in matriz:\n",
        "    print(linha)\n",
        "\n",
        "print(\"Soma dos elementos de cada linha:\")\n",
        "for linha in matriz:\n",
        "    soma_linha = sum(linha)\n",
        "    print(soma_linha)"
      ],
      "metadata": {
        "colab": {
          "base_uri": "https://localhost:8080/"
        },
        "id": "ZGPVbQnMFGlj",
        "outputId": "900d66de-de1f-43d6-fd39-b3946c766da2"
      },
      "execution_count": 4,
      "outputs": [
        {
          "output_type": "stream",
          "name": "stdout",
          "text": [
            "Matriz 3x3 de reais:\n",
            "[1, 2, 3]\n",
            "[4, 5, 6]\n",
            "[7, 8, 9]\n",
            "Soma dos elementos de cada linha:\n",
            "6\n",
            "15\n",
            "24\n"
          ]
        }
      ]
    },
    {
      "cell_type": "markdown",
      "source": [
        "5) Faça um programa com uma matriz 5x5 de inteiros positivos ou negativos (aleatórios e de sua escolha) e encontre e exiba o maior elemento desta matriz."
      ],
      "metadata": {
        "id": "v3cpVwoFFLop"
      }
    },
    {
      "cell_type": "code",
      "source": [
        "matriz = [\n",
        "    [3, -1, 4, 1, 5],\n",
        "    [9, 2, -6, 5, 3],\n",
        "    [5, 0, 7, -4, 2],\n",
        "    [-1, 8, 6, 3, 0],\n",
        "    [2, -3, 1, 4, 7]\n",
        "]\n",
        "\n",
        "\n",
        "print(\"Matriz 5x5:\")\n",
        "for linha in matriz:\n",
        "    print(linha)\n",
        "\n",
        "\n",
        "maior_elemento = float('-inf')\n",
        "\n",
        "\n",
        "for linha in matriz:\n",
        "    for elemento in linha:\n",
        "        if elemento > maior_elemento:\n",
        "            maior_elemento = elemento\n",
        "\n",
        "\n",
        "print(\"O maior elemento da matriz é:\", maior_elemento)"
      ],
      "metadata": {
        "colab": {
          "base_uri": "https://localhost:8080/"
        },
        "id": "J9TVWNeaFMhJ",
        "outputId": "15db237e-b8f8-47aa-feac-4b95a7e3196d"
      },
      "execution_count": 5,
      "outputs": [
        {
          "output_type": "stream",
          "name": "stdout",
          "text": [
            "Matriz 5x5:\n",
            "[3, -1, 4, 1, 5]\n",
            "[9, 2, -6, 5, 3]\n",
            "[5, 0, 7, -4, 2]\n",
            "[-1, 8, 6, 3, 0]\n",
            "[2, -3, 1, 4, 7]\n",
            "O maior elemento da matriz é: 9\n"
          ]
        }
      ]
    },
    {
      "cell_type": "markdown",
      "source": [
        "TRABALHO HELIPONTO"
      ],
      "metadata": {
        "id": "HczxSF7yFRXC"
      }
    },
    {
      "cell_type": "code",
      "source": [
        "import pandas as pd\n",
        "\n",
        "helipontos = [\n",
        "    'Heliponto - Autódromo Internacional de Brasília',\n",
        "    'Heliponto Parque Cidade',\n",
        "    'Heliponto - HFA',\n",
        "\n",
        "]\n",
        "\n",
        "localizacao = [\n",
        "    'SRPN Trecho 1 - Brasília, DF, 70655-775',\n",
        "    'SCS Q. 6 BL A - Asa Sul, Brasília - DF, 70740-610',\n",
        "    'St. Sudoeste - Cruzeiro / Sudoeste / Octogonal, Brasília - DF, 70655-775',\n",
        "]\n",
        "\n",
        "dados_helipontos = {\n",
        "    'Nome': helipontos,\n",
        "    'localizacao': localizacao,\n",
        "}\n",
        "\n",
        "helipontos_df = pd.DataFrame(dados_helipontos)\n",
        "\n",
        "display(helipontos_df)\n"
      ],
      "metadata": {
        "colab": {
          "base_uri": "https://localhost:8080/",
          "height": 143
        },
        "id": "ouJhGCOeFT-J",
        "outputId": "2c72fcc5-0c97-4f84-e328-26b85379b18b"
      },
      "execution_count": 6,
      "outputs": [
        {
          "output_type": "display_data",
          "data": {
            "text/plain": [
              "                                              Nome  \\\n",
              "0  Heliponto - Autódromo Internacional de Brasília   \n",
              "1                          Heliponto Parque Cidade   \n",
              "2                                  Heliponto - HFA   \n",
              "\n",
              "                                         localizacao  \n",
              "0            SRPN Trecho 1 - Brasília, DF, 70655-775  \n",
              "1  SCS Q. 6 BL A - Asa Sul, Brasília - DF, 70740-610  \n",
              "2  St. Sudoeste - Cruzeiro / Sudoeste / Octogonal...  "
            ],
            "text/html": [
              "\n",
              "  <div id=\"df-cb5d0c79-bf7b-4314-af0b-df45590d5897\" class=\"colab-df-container\">\n",
              "    <div>\n",
              "<style scoped>\n",
              "    .dataframe tbody tr th:only-of-type {\n",
              "        vertical-align: middle;\n",
              "    }\n",
              "\n",
              "    .dataframe tbody tr th {\n",
              "        vertical-align: top;\n",
              "    }\n",
              "\n",
              "    .dataframe thead th {\n",
              "        text-align: right;\n",
              "    }\n",
              "</style>\n",
              "<table border=\"1\" class=\"dataframe\">\n",
              "  <thead>\n",
              "    <tr style=\"text-align: right;\">\n",
              "      <th></th>\n",
              "      <th>Nome</th>\n",
              "      <th>localizacao</th>\n",
              "    </tr>\n",
              "  </thead>\n",
              "  <tbody>\n",
              "    <tr>\n",
              "      <th>0</th>\n",
              "      <td>Heliponto - Autódromo Internacional de Brasília</td>\n",
              "      <td>SRPN Trecho 1 - Brasília, DF, 70655-775</td>\n",
              "    </tr>\n",
              "    <tr>\n",
              "      <th>1</th>\n",
              "      <td>Heliponto Parque Cidade</td>\n",
              "      <td>SCS Q. 6 BL A - Asa Sul, Brasília - DF, 70740-610</td>\n",
              "    </tr>\n",
              "    <tr>\n",
              "      <th>2</th>\n",
              "      <td>Heliponto - HFA</td>\n",
              "      <td>St. Sudoeste - Cruzeiro / Sudoeste / Octogonal...</td>\n",
              "    </tr>\n",
              "  </tbody>\n",
              "</table>\n",
              "</div>\n",
              "    <div class=\"colab-df-buttons\">\n",
              "\n",
              "  <div class=\"colab-df-container\">\n",
              "    <button class=\"colab-df-convert\" onclick=\"convertToInteractive('df-cb5d0c79-bf7b-4314-af0b-df45590d5897')\"\n",
              "            title=\"Convert this dataframe to an interactive table.\"\n",
              "            style=\"display:none;\">\n",
              "\n",
              "  <svg xmlns=\"http://www.w3.org/2000/svg\" height=\"24px\" viewBox=\"0 -960 960 960\">\n",
              "    <path d=\"M120-120v-720h720v720H120Zm60-500h600v-160H180v160Zm220 220h160v-160H400v160Zm0 220h160v-160H400v160ZM180-400h160v-160H180v160Zm440 0h160v-160H620v160ZM180-180h160v-160H180v160Zm440 0h160v-160H620v160Z\"/>\n",
              "  </svg>\n",
              "    </button>\n",
              "\n",
              "  <style>\n",
              "    .colab-df-container {\n",
              "      display:flex;\n",
              "      gap: 12px;\n",
              "    }\n",
              "\n",
              "    .colab-df-convert {\n",
              "      background-color: #E8F0FE;\n",
              "      border: none;\n",
              "      border-radius: 50%;\n",
              "      cursor: pointer;\n",
              "      display: none;\n",
              "      fill: #1967D2;\n",
              "      height: 32px;\n",
              "      padding: 0 0 0 0;\n",
              "      width: 32px;\n",
              "    }\n",
              "\n",
              "    .colab-df-convert:hover {\n",
              "      background-color: #E2EBFA;\n",
              "      box-shadow: 0px 1px 2px rgba(60, 64, 67, 0.3), 0px 1px 3px 1px rgba(60, 64, 67, 0.15);\n",
              "      fill: #174EA6;\n",
              "    }\n",
              "\n",
              "    .colab-df-buttons div {\n",
              "      margin-bottom: 4px;\n",
              "    }\n",
              "\n",
              "    [theme=dark] .colab-df-convert {\n",
              "      background-color: #3B4455;\n",
              "      fill: #D2E3FC;\n",
              "    }\n",
              "\n",
              "    [theme=dark] .colab-df-convert:hover {\n",
              "      background-color: #434B5C;\n",
              "      box-shadow: 0px 1px 3px 1px rgba(0, 0, 0, 0.15);\n",
              "      filter: drop-shadow(0px 1px 2px rgba(0, 0, 0, 0.3));\n",
              "      fill: #FFFFFF;\n",
              "    }\n",
              "  </style>\n",
              "\n",
              "    <script>\n",
              "      const buttonEl =\n",
              "        document.querySelector('#df-cb5d0c79-bf7b-4314-af0b-df45590d5897 button.colab-df-convert');\n",
              "      buttonEl.style.display =\n",
              "        google.colab.kernel.accessAllowed ? 'block' : 'none';\n",
              "\n",
              "      async function convertToInteractive(key) {\n",
              "        const element = document.querySelector('#df-cb5d0c79-bf7b-4314-af0b-df45590d5897');\n",
              "        const dataTable =\n",
              "          await google.colab.kernel.invokeFunction('convertToInteractive',\n",
              "                                                    [key], {});\n",
              "        if (!dataTable) return;\n",
              "\n",
              "        const docLinkHtml = 'Like what you see? Visit the ' +\n",
              "          '<a target=\"_blank\" href=https://colab.research.google.com/notebooks/data_table.ipynb>data table notebook</a>'\n",
              "          + ' to learn more about interactive tables.';\n",
              "        element.innerHTML = '';\n",
              "        dataTable['output_type'] = 'display_data';\n",
              "        await google.colab.output.renderOutput(dataTable, element);\n",
              "        const docLink = document.createElement('div');\n",
              "        docLink.innerHTML = docLinkHtml;\n",
              "        element.appendChild(docLink);\n",
              "      }\n",
              "    </script>\n",
              "  </div>\n",
              "\n",
              "\n",
              "    <div id=\"df-9d8c4d6c-55ce-4075-b25b-77a60203fe30\">\n",
              "      <button class=\"colab-df-quickchart\" onclick=\"quickchart('df-9d8c4d6c-55ce-4075-b25b-77a60203fe30')\"\n",
              "                title=\"Suggest charts\"\n",
              "                style=\"display:none;\">\n",
              "\n",
              "<svg xmlns=\"http://www.w3.org/2000/svg\" height=\"24px\"viewBox=\"0 0 24 24\"\n",
              "     width=\"24px\">\n",
              "    <g>\n",
              "        <path d=\"M19 3H5c-1.1 0-2 .9-2 2v14c0 1.1.9 2 2 2h14c1.1 0 2-.9 2-2V5c0-1.1-.9-2-2-2zM9 17H7v-7h2v7zm4 0h-2V7h2v10zm4 0h-2v-4h2v4z\"/>\n",
              "    </g>\n",
              "</svg>\n",
              "      </button>\n",
              "\n",
              "<style>\n",
              "  .colab-df-quickchart {\n",
              "      --bg-color: #E8F0FE;\n",
              "      --fill-color: #1967D2;\n",
              "      --hover-bg-color: #E2EBFA;\n",
              "      --hover-fill-color: #174EA6;\n",
              "      --disabled-fill-color: #AAA;\n",
              "      --disabled-bg-color: #DDD;\n",
              "  }\n",
              "\n",
              "  [theme=dark] .colab-df-quickchart {\n",
              "      --bg-color: #3B4455;\n",
              "      --fill-color: #D2E3FC;\n",
              "      --hover-bg-color: #434B5C;\n",
              "      --hover-fill-color: #FFFFFF;\n",
              "      --disabled-bg-color: #3B4455;\n",
              "      --disabled-fill-color: #666;\n",
              "  }\n",
              "\n",
              "  .colab-df-quickchart {\n",
              "    background-color: var(--bg-color);\n",
              "    border: none;\n",
              "    border-radius: 50%;\n",
              "    cursor: pointer;\n",
              "    display: none;\n",
              "    fill: var(--fill-color);\n",
              "    height: 32px;\n",
              "    padding: 0;\n",
              "    width: 32px;\n",
              "  }\n",
              "\n",
              "  .colab-df-quickchart:hover {\n",
              "    background-color: var(--hover-bg-color);\n",
              "    box-shadow: 0 1px 2px rgba(60, 64, 67, 0.3), 0 1px 3px 1px rgba(60, 64, 67, 0.15);\n",
              "    fill: var(--button-hover-fill-color);\n",
              "  }\n",
              "\n",
              "  .colab-df-quickchart-complete:disabled,\n",
              "  .colab-df-quickchart-complete:disabled:hover {\n",
              "    background-color: var(--disabled-bg-color);\n",
              "    fill: var(--disabled-fill-color);\n",
              "    box-shadow: none;\n",
              "  }\n",
              "\n",
              "  .colab-df-spinner {\n",
              "    border: 2px solid var(--fill-color);\n",
              "    border-color: transparent;\n",
              "    border-bottom-color: var(--fill-color);\n",
              "    animation:\n",
              "      spin 1s steps(1) infinite;\n",
              "  }\n",
              "\n",
              "  @keyframes spin {\n",
              "    0% {\n",
              "      border-color: transparent;\n",
              "      border-bottom-color: var(--fill-color);\n",
              "      border-left-color: var(--fill-color);\n",
              "    }\n",
              "    20% {\n",
              "      border-color: transparent;\n",
              "      border-left-color: var(--fill-color);\n",
              "      border-top-color: var(--fill-color);\n",
              "    }\n",
              "    30% {\n",
              "      border-color: transparent;\n",
              "      border-left-color: var(--fill-color);\n",
              "      border-top-color: var(--fill-color);\n",
              "      border-right-color: var(--fill-color);\n",
              "    }\n",
              "    40% {\n",
              "      border-color: transparent;\n",
              "      border-right-color: var(--fill-color);\n",
              "      border-top-color: var(--fill-color);\n",
              "    }\n",
              "    60% {\n",
              "      border-color: transparent;\n",
              "      border-right-color: var(--fill-color);\n",
              "    }\n",
              "    80% {\n",
              "      border-color: transparent;\n",
              "      border-right-color: var(--fill-color);\n",
              "      border-bottom-color: var(--fill-color);\n",
              "    }\n",
              "    90% {\n",
              "      border-color: transparent;\n",
              "      border-bottom-color: var(--fill-color);\n",
              "    }\n",
              "  }\n",
              "</style>\n",
              "\n",
              "      <script>\n",
              "        async function quickchart(key) {\n",
              "          const quickchartButtonEl =\n",
              "            document.querySelector('#' + key + ' button');\n",
              "          quickchartButtonEl.disabled = true;  // To prevent multiple clicks.\n",
              "          quickchartButtonEl.classList.add('colab-df-spinner');\n",
              "          try {\n",
              "            const charts = await google.colab.kernel.invokeFunction(\n",
              "                'suggestCharts', [key], {});\n",
              "          } catch (error) {\n",
              "            console.error('Error during call to suggestCharts:', error);\n",
              "          }\n",
              "          quickchartButtonEl.classList.remove('colab-df-spinner');\n",
              "          quickchartButtonEl.classList.add('colab-df-quickchart-complete');\n",
              "        }\n",
              "        (() => {\n",
              "          let quickchartButtonEl =\n",
              "            document.querySelector('#df-9d8c4d6c-55ce-4075-b25b-77a60203fe30 button');\n",
              "          quickchartButtonEl.style.display =\n",
              "            google.colab.kernel.accessAllowed ? 'block' : 'none';\n",
              "        })();\n",
              "      </script>\n",
              "    </div>\n",
              "\n",
              "  <div id=\"id_20cf69a0-f6f7-4b4a-afec-9cf156c5cde3\">\n",
              "    <style>\n",
              "      .colab-df-generate {\n",
              "        background-color: #E8F0FE;\n",
              "        border: none;\n",
              "        border-radius: 50%;\n",
              "        cursor: pointer;\n",
              "        display: none;\n",
              "        fill: #1967D2;\n",
              "        height: 32px;\n",
              "        padding: 0 0 0 0;\n",
              "        width: 32px;\n",
              "      }\n",
              "\n",
              "      .colab-df-generate:hover {\n",
              "        background-color: #E2EBFA;\n",
              "        box-shadow: 0px 1px 2px rgba(60, 64, 67, 0.3), 0px 1px 3px 1px rgba(60, 64, 67, 0.15);\n",
              "        fill: #174EA6;\n",
              "      }\n",
              "\n",
              "      [theme=dark] .colab-df-generate {\n",
              "        background-color: #3B4455;\n",
              "        fill: #D2E3FC;\n",
              "      }\n",
              "\n",
              "      [theme=dark] .colab-df-generate:hover {\n",
              "        background-color: #434B5C;\n",
              "        box-shadow: 0px 1px 3px 1px rgba(0, 0, 0, 0.15);\n",
              "        filter: drop-shadow(0px 1px 2px rgba(0, 0, 0, 0.3));\n",
              "        fill: #FFFFFF;\n",
              "      }\n",
              "    </style>\n",
              "    <button class=\"colab-df-generate\" onclick=\"generateWithVariable('helipontos_df')\"\n",
              "            title=\"Generate code using this dataframe.\"\n",
              "            style=\"display:none;\">\n",
              "\n",
              "  <svg xmlns=\"http://www.w3.org/2000/svg\" height=\"24px\"viewBox=\"0 0 24 24\"\n",
              "       width=\"24px\">\n",
              "    <path d=\"M7,19H8.4L18.45,9,17,7.55,7,17.6ZM5,21V16.75L18.45,3.32a2,2,0,0,1,2.83,0l1.4,1.43a1.91,1.91,0,0,1,.58,1.4,1.91,1.91,0,0,1-.58,1.4L9.25,21ZM18.45,9,17,7.55Zm-12,3A5.31,5.31,0,0,0,4.9,8.1,5.31,5.31,0,0,0,1,6.5,5.31,5.31,0,0,0,4.9,4.9,5.31,5.31,0,0,0,6.5,1,5.31,5.31,0,0,0,8.1,4.9,5.31,5.31,0,0,0,12,6.5,5.46,5.46,0,0,0,6.5,12Z\"/>\n",
              "  </svg>\n",
              "    </button>\n",
              "    <script>\n",
              "      (() => {\n",
              "      const buttonEl =\n",
              "        document.querySelector('#id_20cf69a0-f6f7-4b4a-afec-9cf156c5cde3 button.colab-df-generate');\n",
              "      buttonEl.style.display =\n",
              "        google.colab.kernel.accessAllowed ? 'block' : 'none';\n",
              "\n",
              "      buttonEl.onclick = () => {\n",
              "        google.colab.notebook.generateWithVariable('helipontos_df');\n",
              "      }\n",
              "      })();\n",
              "    </script>\n",
              "  </div>\n",
              "\n",
              "    </div>\n",
              "  </div>\n"
            ],
            "application/vnd.google.colaboratory.intrinsic+json": {
              "type": "dataframe",
              "variable_name": "helipontos_df",
              "summary": "{\n  \"name\": \"helipontos_df\",\n  \"rows\": 3,\n  \"fields\": [\n    {\n      \"column\": \"Nome\",\n      \"properties\": {\n        \"dtype\": \"string\",\n        \"num_unique_values\": 3,\n        \"samples\": [\n          \"Heliponto - Aut\\u00f3dromo Internacional de Bras\\u00edlia\",\n          \"Heliponto Parque Cidade\",\n          \"Heliponto - HFA\"\n        ],\n        \"semantic_type\": \"\",\n        \"description\": \"\"\n      }\n    },\n    {\n      \"column\": \"localizacao\",\n      \"properties\": {\n        \"dtype\": \"string\",\n        \"num_unique_values\": 3,\n        \"samples\": [\n          \"SRPN Trecho 1 - Bras\\u00edlia, DF, 70655-775\",\n          \"SCS Q. 6 BL A - Asa Sul, Bras\\u00edlia - DF, 70740-610\",\n          \"St. Sudoeste - Cruzeiro / Sudoeste / Octogonal, Bras\\u00edlia - DF, 70655-775\"\n        ],\n        \"semantic_type\": \"\",\n        \"description\": \"\"\n      }\n    }\n  ]\n}"
            }
          },
          "metadata": {}
        }
      ]
    },
    {
      "cell_type": "markdown",
      "source": [
        "exemplo de aula pratica:\n",
        "\n",
        "livro: POO Programação orientada objetos\n",
        "\n",
        "repositório do Github da kadidjah: https://github.com/Kadidjah/POO_python-orientacao-a-objetos"
      ],
      "metadata": {
        "id": "buy1Xyl8FkrJ"
      }
    },
    {
      "source": [
        "'''\n",
        "Faça um programa que tenha uma função chamada contrador(), que receba três parâmetros: inicio, fim e passo.\n",
        "Seu programa tem que realizar três contagens através da função criada\n",
        "\n",
        "a) De 1 até 10, de 1 em 1\n",
        "b) De 10 até 0, de 2 em 2\n",
        "C) Uma contagem personalizada\n",
        "\n",
        "'''\n",
        "from time import sleep # Import the sleep function from the time module\n",
        "\n",
        "def contador(i, f, p):\n",
        "    print('-=' * 20)\n",
        "    print(f'Contagem de {i} até {f}, de {p} em {p}')\n",
        "    sleep(2.5)\n",
        "\n",
        "    if i < f:\n",
        "        cont = i\n",
        "        while cont <= f:\n",
        "            print(f'{cont}', end=' ', flush=True)\n",
        "            sleep(0.5)\n",
        "            cont += p\n",
        "        print('FIM!')\n",
        "\n",
        "    else:\n",
        "        cont = i # Initialize cont here for the descending loop\n",
        "        while cont >= f:\n",
        "            print(f'{cont}', end=' ', flush=True)\n",
        "            sleep(0.5)\n",
        "            cont -= p\n",
        "        print('FIM!')\n",
        "\n",
        "contador(1, 10, 1)\n",
        "print('Agora é sua vez de personalizar a contagem')\n",
        "ini = int(input('Inicio: '))\n",
        "fim = int(input('Fim: '))\n",
        "pas = int(input('Passo: '))\n",
        "\n",
        "contador(ini, fim, pas)"
      ],
      "cell_type": "code",
      "metadata": {
        "colab": {
          "base_uri": "https://localhost:8080/"
        },
        "id": "naGqkFPxGOC5",
        "outputId": "fa8ec628-2b92-4d89-9e6e-f6093723ff3b"
      },
      "execution_count": 11,
      "outputs": [
        {
          "output_type": "stream",
          "name": "stdout",
          "text": [
            "-=-=-=-=-=-=-=-=-=-=-=-=-=-=-=-=-=-=-=-=\n",
            "Contagem de 1 até 10, de 1 em 1\n",
            "1 2 3 4 5 6 7 8 9 10 FIM!\n",
            "Agora é sua vez de personalizar a contagem\n",
            "Inicio: 2\n",
            "Fim: 2\n",
            "Passo: 2\n",
            "-=-=-=-=-=-=-=-=-=-=-=-=-=-=-=-=-=-=-=-=\n",
            "Contagem de 2 até 2, de 2 em 2\n",
            "2 FIM!\n"
          ]
        }
      ]
    },
    {
      "cell_type": "code",
      "source": [
        "numero = '123-4'\n",
        "titular = 'João'\n",
        "Saldo = 120.0\n",
        "Limite = 1000.0"
      ],
      "metadata": {
        "id": "Dz01yHQeGguB"
      },
      "execution_count": 12,
      "outputs": []
    },
    {
      "cell_type": "code",
      "source": [
        "numero1 = '123-4'\n",
        "titular1 = 'João'\n",
        "Saldo1 = 120.0\n",
        "Limite1 = 1000.0\n",
        "\n",
        "numero2 = '123-5'\n",
        "titular2 = \"José\"\n",
        "saldo2 = 200.0\n",
        "limite2 = 1000.0\n",
        "\n",
        "conta = {'numero'}"
      ],
      "metadata": {
        "id": "7gUSPLavGh4A"
      },
      "execution_count": 13,
      "outputs": []
    },
    {
      "cell_type": "code",
      "source": [
        "conta = {\"numero\": '123-4', \"titular\": \"João\", \"saldo\": 120.0, \"limite\": 1000.0}"
      ],
      "metadata": {
        "id": "e-MU97EEGkA6"
      },
      "execution_count": 14,
      "outputs": []
    },
    {
      "cell_type": "code",
      "source": [
        "conta[\"numero\"]"
      ],
      "metadata": {
        "colab": {
          "base_uri": "https://localhost:8080/",
          "height": 35
        },
        "id": "LOjLETwIGm5R",
        "outputId": "2fe35c3f-46e9-4cd7-8afb-9a8eaf6d190e"
      },
      "execution_count": 15,
      "outputs": [
        {
          "output_type": "execute_result",
          "data": {
            "text/plain": [
              "'123-4'"
            ],
            "application/vnd.google.colaboratory.intrinsic+json": {
              "type": "string"
            }
          },
          "metadata": {},
          "execution_count": 15
        }
      ]
    },
    {
      "cell_type": "code",
      "source": [
        "conta2 = {\"numero\": '123-5', \"titular\": \"José\", \"saldo\": 200.0, \"limite\": 1000.0}"
      ],
      "metadata": {
        "id": "fsmDFYRgGpeo"
      },
      "execution_count": 16,
      "outputs": []
    },
    {
      "cell_type": "code",
      "source": [
        "def cria_conta():\n",
        "    conta = {\"numero\": '123-4', \"titular\": \"João\", \"saldo\": 120.0, \"limite\": 1000.0}\n",
        "    return conta"
      ],
      "metadata": {
        "id": "d0wq88tPGsew"
      },
      "execution_count": 17,
      "outputs": []
    },
    {
      "cell_type": "code",
      "source": [
        "def cria_conta(numero, titular, saldo, limite):\n",
        "    conta = {\"numero\": numero, \"titular\": titular, \"saldo\": saldo, \"limite\": limite}\n",
        "    return conta"
      ],
      "metadata": {
        "id": "9a54vzslGuuI"
      },
      "execution_count": 18,
      "outputs": []
    },
    {
      "cell_type": "code",
      "source": [
        "conta1 = cria_conta('123-4', 'João', 120.0, 1000.0)\n",
        "conta2 = cria_conta('123-5', 'José', 200.0, 1000.0)\n"
      ],
      "metadata": {
        "id": "X2EHZ7zCGw0I"
      },
      "execution_count": 19,
      "outputs": []
    },
    {
      "cell_type": "code",
      "source": [
        "conta1['numero']\n",
        "'123-4'"
      ],
      "metadata": {
        "colab": {
          "base_uri": "https://localhost:8080/",
          "height": 35
        },
        "id": "1r2zMxUAG64r",
        "outputId": "86c63c13-f5e7-4f7d-859f-14ee3040bb58"
      },
      "execution_count": 20,
      "outputs": [
        {
          "output_type": "execute_result",
          "data": {
            "text/plain": [
              "'123-4'"
            ],
            "application/vnd.google.colaboratory.intrinsic+json": {
              "type": "string"
            }
          },
          "metadata": {},
          "execution_count": 20
        }
      ]
    },
    {
      "cell_type": "code",
      "source": [
        "conta2['numero']\n",
        "'123-5'"
      ],
      "metadata": {
        "colab": {
          "base_uri": "https://localhost:8080/",
          "height": 35
        },
        "id": "O3FwnXNYHA9o",
        "outputId": "ff479470-9e22-44c4-ac0f-c4a34725bd7a"
      },
      "execution_count": 21,
      "outputs": [
        {
          "output_type": "execute_result",
          "data": {
            "text/plain": [
              "'123-5'"
            ],
            "application/vnd.google.colaboratory.intrinsic+json": {
              "type": "string"
            }
          },
          "metadata": {},
          "execution_count": 21
        }
      ]
    },
    {
      "cell_type": "code",
      "source": [
        "#funcionalidades\n",
        "\n",
        "def deposita(conta, valor):\n",
        "    conta['saldo'] = conta['saldo'] + valor"
      ],
      "metadata": {
        "id": "BRExrDfRHD5I"
      },
      "execution_count": 22,
      "outputs": []
    },
    {
      "cell_type": "code",
      "source": [
        "def deposita(conta, valor):\n",
        "    conta['saldo'] += valor"
      ],
      "metadata": {
        "id": "iSQ1es5RHGEv"
      },
      "execution_count": 23,
      "outputs": []
    },
    {
      "cell_type": "code",
      "source": [
        "def saca(conta, valor):\n",
        "    conta['saldo'] -= valor"
      ],
      "metadata": {
        "id": "ciJNLm1aHH5x"
      },
      "execution_count": 24,
      "outputs": []
    },
    {
      "cell_type": "code",
      "source": [
        "def extrato(conta):\n",
        "    print(\"numero: {} \\nsaldo: {}\".format(conta['numero'], conta['saldo']))"
      ],
      "metadata": {
        "id": "uRUVX8PlHJzy"
      },
      "execution_count": 25,
      "outputs": []
    },
    {
      "cell_type": "code",
      "source": [
        "\n",
        "    conta = cria_conta('123-4', 'João', 120.0, 1000.0)\n",
        "    deposita(conta, 15.0)\n",
        "    extrato(conta)\n",
        "\n",
        "    #numero: '123-4'\n",
        "    #saldo: 135.0\n",
        "\n",
        "    saca(conta, 20.0)\n",
        "    extrato(conta)\n",
        "\n",
        "    #numero: '123-4'\n",
        "    #saldo 115.0"
      ],
      "metadata": {
        "colab": {
          "base_uri": "https://localhost:8080/"
        },
        "id": "aDTMgjEMHL8r",
        "outputId": "ceb4f45e-60a8-4115-e2c9-c997fda784c4"
      },
      "execution_count": 26,
      "outputs": [
        {
          "output_type": "stream",
          "name": "stdout",
          "text": [
            "numero: 123-4 \n",
            "saldo: 135.0\n",
            "numero: 123-4 \n",
            "saldo: 115.0\n"
          ]
        }
      ]
    },
    {
      "cell_type": "code",
      "source": [
        "class pessoa:\n",
        "  def __init__(self, nome, idade, peso, altura):\n",
        "    self.nome = nome\n",
        "    self.idade = idade\n",
        "    self.peso = peso\n",
        "    self.altura = altura\n",
        "\n",
        "  def envelhecer(self, anos =1):\n",
        "\n",
        "      for _ in range(anos):\n",
        "        self.idade += 1\n",
        "        if self.idade < 21:\n",
        "          self.altura += 0.05\n",
        "  def engordar(self, quilos):\n",
        "    self.peso -= quilos\n",
        "\n",
        "  def emagrecer(self, quilos):\n",
        "    self.peso += quilos\n",
        "\n",
        "  def crescer(self, centimetros):\n",
        "    self.altura += centimetros\n",
        "\n",
        "#exemplo de uso\n",
        "\n",
        "pessoal = pessoa(\"Alice\", 18, 69.0, 160.0)\n",
        "\n",
        "print(f\"Nome: {pessoal.nome}, Idade: {pessoal.idade}, Peso: {pessoal.peso} kg, Altura: {pessoal.altura} cm \")\n",
        "\n",
        "pessoal.envelhecer(3)\n",
        "pessoal.engordar(10)\n",
        "pessoal.emagrecer(5)\n",
        "pessoal.crescer(5)\n",
        "print(f\"nome: {pessoal.nome}, Idade: {pessoal.idade}, Peso: {pessoal.peso} kg, Altura: {pessoal.altura} cm \")"
      ],
      "metadata": {
        "colab": {
          "base_uri": "https://localhost:8080/"
        },
        "id": "NH3YJ189HOZg",
        "outputId": "fc65e900-053d-4559-8372-14dc76c0d06e"
      },
      "execution_count": 27,
      "outputs": [
        {
          "output_type": "stream",
          "name": "stdout",
          "text": [
            "Nome: Alice, Idade: 18, Peso: 69.0 kg, Altura: 160.0 cm \n",
            "nome: Alice, Idade: 21, Peso: 64.0 kg, Altura: 165.10000000000002 cm \n"
          ]
        }
      ]
    },
    {
      "cell_type": "markdown",
      "source": [
        "Unidade 1 - Listas\n",
        "\n",
        "Listas são cadeias de valores, isto é, armazenam mais de um valor. São estruturas ordenadas, mutáveis e heterogêneas."
      ],
      "metadata": {
        "id": "O6Lyg_zJHTKo"
      }
    },
    {
      "cell_type": "code",
      "source": [
        "x = [1, 2, 3, 4, 5]\n",
        "print(x)"
      ],
      "metadata": {
        "colab": {
          "base_uri": "https://localhost:8080/"
        },
        "id": "jkAa4DrVHWOf",
        "outputId": "9325ab04-2194-490c-96ae-33b2c659c628"
      },
      "execution_count": 28,
      "outputs": [
        {
          "output_type": "stream",
          "name": "stdout",
          "text": [
            "[1, 2, 3, 4, 5]\n"
          ]
        }
      ]
    },
    {
      "cell_type": "markdown",
      "source": [
        "Como dito anteriormente, a lista é ordenada. Cada um dos 5 elementos da lista acima possui um índice, na ordem em que estão armazenados, de 0 a 4. Um item pode ser selecionado individualmente pelo uso dos colchetes, Lista[índice]"
      ],
      "metadata": {
        "id": "xhigE1KpHYQ5"
      }
    },
    {
      "cell_type": "code",
      "source": [
        "x = [1, 2, 3, 4, 5]\n",
        "print(x[0])"
      ],
      "metadata": {
        "colab": {
          "base_uri": "https://localhost:8080/"
        },
        "id": "vASodPOdHawA",
        "outputId": "c8e959ba-3526-428a-ac15-6c3edc3b18ba"
      },
      "execution_count": 29,
      "outputs": [
        {
          "output_type": "stream",
          "name": "stdout",
          "text": [
            "1\n"
          ]
        }
      ]
    },
    {
      "cell_type": "markdown",
      "source": [
        "Listas vazias podem ser criadas usando-se uma das duas sintases a seguir:"
      ],
      "metadata": {
        "id": "yPDOM6vXHf84"
      }
    },
    {
      "cell_type": "code",
      "source": [
        "x = []\n",
        "x = list()"
      ],
      "metadata": {
        "id": "CVxO2EsqHg5g"
      },
      "execution_count": 30,
      "outputs": []
    },
    {
      "cell_type": "markdown",
      "source": [
        "Para a adição de novos valores pode-se usar o metodo append(valor) ou o operador \"+\", que no caso das listas, executa concatenação\n",
        "\n",
        "Como a lista é mutável, os valores nela armazenados podem ser alterados e novos valores podem ser adicionados"
      ],
      "metadata": {
        "id": "GowWZjEmHjKR"
      }
    },
    {
      "cell_type": "code",
      "source": [
        "x = [1, 2, 3, 4, 5]\n",
        "x[0] = 10\n",
        "print(x)"
      ],
      "metadata": {
        "colab": {
          "base_uri": "https://localhost:8080/"
        },
        "id": "X9dl6zmEHlby",
        "outputId": "33318c2c-dc7a-41d9-8867-976055fb0833"
      },
      "execution_count": 31,
      "outputs": [
        {
          "output_type": "stream",
          "name": "stdout",
          "text": [
            "[10, 2, 3, 4, 5]\n"
          ]
        }
      ]
    },
    {
      "cell_type": "markdown",
      "source": [
        "Para a adição de novos valores pode-se usar o método append(valor) ou o operador \"+\", que no caso das listas, executa concatenação"
      ],
      "metadata": {
        "id": "7-jNozEfHn4f"
      }
    },
    {
      "cell_type": "code",
      "source": [
        "x = [1, 2, 3, 4, 5]\n",
        "x.append(6)\n",
        "print(x)"
      ],
      "metadata": {
        "colab": {
          "base_uri": "https://localhost:8080/"
        },
        "id": "e4fQhwZmHqgX",
        "outputId": "b35b7824-e301-434b-e197-9fc98c310b6e"
      },
      "execution_count": 32,
      "outputs": [
        {
          "output_type": "stream",
          "name": "stdout",
          "text": [
            "[1, 2, 3, 4, 5, 6]\n"
          ]
        }
      ]
    },
    {
      "cell_type": "markdown",
      "source": [
        "A heterogeneidade permite que a lista armazene tipos variados, incluindo também outras listas:"
      ],
      "metadata": {
        "id": "hceobFklHuQf"
      }
    },
    {
      "cell_type": "code",
      "source": [
        "x = [1, 2, 3, 4, 5]\n",
        "x.append([6, 7])\n",
        "print(x)"
      ],
      "metadata": {
        "colab": {
          "base_uri": "https://localhost:8080/"
        },
        "id": "V7f4VteWHxGI",
        "outputId": "9db5a330-27fc-49ff-f918-82814fb532d1"
      },
      "execution_count": 33,
      "outputs": [
        {
          "output_type": "stream",
          "name": "stdout",
          "text": [
            "[1, 2, 3, 4, 5, [6, 7]]\n"
          ]
        }
      ]
    },
    {
      "cell_type": "markdown",
      "source": [
        "clear() Esvazia a lista"
      ],
      "metadata": {
        "id": "Ta0UhtudHzRX"
      }
    },
    {
      "cell_type": "code",
      "source": [
        "x = [1, 2, 3]\n",
        "x.clear()\n",
        "print(x)"
      ],
      "metadata": {
        "colab": {
          "base_uri": "https://localhost:8080/"
        },
        "id": "AB3MsTeFH4X5",
        "outputId": "d5c8841a-5659-4387-f0c2-02d801d25d9d"
      },
      "execution_count": 34,
      "outputs": [
        {
          "output_type": "stream",
          "name": "stdout",
          "text": [
            "[]\n"
          ]
        }
      ]
    },
    {
      "cell_type": "markdown",
      "source": [
        "\n",
        "count() Retorna quantas ocorrências há do argumento passado"
      ],
      "metadata": {
        "id": "KmclKQlrH8QH"
      }
    },
    {
      "cell_type": "code",
      "source": [
        "x = [1, 2, 3, 3, 3, 4]\n",
        "x.count(3)"
      ],
      "metadata": {
        "colab": {
          "base_uri": "https://localhost:8080/"
        },
        "id": "VEcUnpjBH8-4",
        "outputId": "02dbdd6a-dd34-4ef8-e21f-45fbba881e9d"
      },
      "execution_count": 35,
      "outputs": [
        {
          "output_type": "execute_result",
          "data": {
            "text/plain": [
              "3"
            ]
          },
          "metadata": {},
          "execution_count": 35
        }
      ]
    },
    {
      "cell_type": "markdown",
      "source": [
        "index() Retorna o índice da primeira ocorrência do argumento passado"
      ],
      "metadata": {
        "id": "NcicVOX2IBhn"
      }
    },
    {
      "cell_type": "code",
      "source": [
        "x = [1, 2, 3, 4, 5, 6 ]\n",
        "x.index(3)"
      ],
      "metadata": {
        "colab": {
          "base_uri": "https://localhost:8080/"
        },
        "id": "4Sgprf4vICXg",
        "outputId": "0c32665a-24d1-4fce-bc0f-6808ffc85ef7"
      },
      "execution_count": 36,
      "outputs": [
        {
          "output_type": "execute_result",
          "data": {
            "text/plain": [
              "2"
            ]
          },
          "metadata": {},
          "execution_count": 36
        }
      ]
    },
    {
      "cell_type": "markdown",
      "source": [
        "insert() Insere na posição especificada um elemento:"
      ],
      "metadata": {
        "id": "EWreDAHcIEth"
      }
    },
    {
      "cell_type": "code",
      "source": [
        "x = ['a', 'b', 'c']\n",
        "x.insert(1, 'd')\n",
        "print(x)"
      ],
      "metadata": {
        "colab": {
          "base_uri": "https://localhost:8080/"
        },
        "id": "MbYhieFpIHRq",
        "outputId": "c63fc961-1ef2-46d4-da5b-9ad23e6da9e3"
      },
      "execution_count": 37,
      "outputs": [
        {
          "output_type": "stream",
          "name": "stdout",
          "text": [
            "['a', 'd', 'b', 'c']\n"
          ]
        }
      ]
    },
    {
      "cell_type": "markdown",
      "source": [
        "pop() Remove e retorna o elemento da posição especificada:"
      ],
      "metadata": {
        "id": "Slq6CbznIJcZ"
      }
    },
    {
      "cell_type": "code",
      "source": [
        "x = ['a', 'b', 'c']\n",
        "x.pop(1)\n",
        "print(x)"
      ],
      "metadata": {
        "colab": {
          "base_uri": "https://localhost:8080/"
        },
        "id": "o6Iy2t8pIL_R",
        "outputId": "aa0bc89f-cbb4-4f80-c30c-1978e05942e2"
      },
      "execution_count": 38,
      "outputs": [
        {
          "output_type": "stream",
          "name": "stdout",
          "text": [
            "['a', 'c']\n"
          ]
        }
      ]
    },
    {
      "cell_type": "markdown",
      "source": [
        "remove() Remove o elemento especificado:"
      ],
      "metadata": {
        "id": "8rObqIATIOBJ"
      }
    },
    {
      "cell_type": "code",
      "source": [
        "x = ['a', 'b', 'c']\n",
        "x.remove('b')\n",
        "print(x)"
      ],
      "metadata": {
        "colab": {
          "base_uri": "https://localhost:8080/"
        },
        "id": "ftHmkSPMIQHn",
        "outputId": "8c6a6839-9357-4cad-f320-54ea951a20a5"
      },
      "execution_count": 39,
      "outputs": [
        {
          "output_type": "stream",
          "name": "stdout",
          "text": [
            "['a', 'c']\n"
          ]
        }
      ]
    },
    {
      "cell_type": "markdown",
      "source": [
        "reverse() Inverte a ordem dos elementos"
      ],
      "metadata": {
        "id": "M1Mbhkz6IdwP"
      }
    },
    {
      "cell_type": "code",
      "source": [
        "x = ['a', 'b', 'c']\n",
        "x.reverse()\n",
        "print(x)"
      ],
      "metadata": {
        "colab": {
          "base_uri": "https://localhost:8080/"
        },
        "id": "JHvc655DIjH_",
        "outputId": "267ff343-2ea0-44e0-b175-a0fdcfaad430"
      },
      "execution_count": 41,
      "outputs": [
        {
          "output_type": "stream",
          "name": "stdout",
          "text": [
            "['c', 'b', 'a']\n"
          ]
        }
      ]
    },
    {
      "cell_type": "markdown",
      "source": [
        "sort() Ordena"
      ],
      "metadata": {
        "id": "Nuo3IN-yIlP_"
      }
    },
    {
      "cell_type": "code",
      "source": [
        "x = [3, 2, 1]\n",
        "x.sort()\n",
        "print(x)"
      ],
      "metadata": {
        "colab": {
          "base_uri": "https://localhost:8080/"
        },
        "id": "P2Oj4lJeInJ_",
        "outputId": "7d957d63-0c5d-42a2-ecfa-c0a471a8ea67"
      },
      "execution_count": 42,
      "outputs": [
        {
          "output_type": "stream",
          "name": "stdout",
          "text": [
            "[1, 2, 3]\n"
          ]
        }
      ]
    },
    {
      "cell_type": "markdown",
      "source": [
        "Laço for\n",
        "\n",
        "Os conjuntos finitos de valores usados na estrutura de repetição for para iterar uma variável, também é uma lista"
      ],
      "metadata": {
        "id": "CdzNbaxAIo_f"
      }
    },
    {
      "cell_type": "code",
      "source": [
        "x = ['a', 'b', 'c']\n",
        "for i in x:\n",
        "  print(i)"
      ],
      "metadata": {
        "colab": {
          "base_uri": "https://localhost:8080/"
        },
        "id": "iEb2Ug13Iro_",
        "outputId": "50b71ab2-094e-4196-e182-707665533ed2"
      },
      "execution_count": 43,
      "outputs": [
        {
          "output_type": "stream",
          "name": "stdout",
          "text": [
            "a\n",
            "b\n",
            "c\n"
          ]
        }
      ]
    },
    {
      "cell_type": "markdown",
      "source": [
        "No entanto, fora da iteração for, o operador in retorna verdadeiro se o i está presente em x, ou falso caso contrário"
      ],
      "metadata": {
        "id": "9jd8u58jIt4Y"
      }
    },
    {
      "cell_type": "code",
      "source": [
        "x = ['a', 'b', 'c']\n",
        "i = 10\n",
        "i in x"
      ],
      "metadata": {
        "colab": {
          "base_uri": "https://localhost:8080/"
        },
        "id": "wpZACa3BIwUg",
        "outputId": "0495b65e-83b4-46e7-dc9b-847ee3b7f729"
      },
      "execution_count": 44,
      "outputs": [
        {
          "output_type": "execute_result",
          "data": {
            "text/plain": [
              "False"
            ]
          },
          "metadata": {},
          "execution_count": 44
        }
      ]
    },
    {
      "cell_type": "markdown",
      "source": [
        "Quando uma lista é criada a partir de um laço for, é possível reescrever o procedimento de forma mais compacta."
      ],
      "metadata": {
        "id": "wIoT-5p9IyVR"
      }
    },
    {
      "cell_type": "code",
      "source": [
        "A = [3, 4, 5, 10]\n",
        "soma1 = list()\n",
        "for i in A:\n",
        "  soma1.append(i + 1)\n",
        "print(soma1)"
      ],
      "metadata": {
        "colab": {
          "base_uri": "https://localhost:8080/"
        },
        "id": "q3AFmK3CI0W-",
        "outputId": "5aae2acc-872a-4288-e032-bac20964e8d2"
      },
      "execution_count": 45,
      "outputs": [
        {
          "output_type": "stream",
          "name": "stdout",
          "text": [
            "[4, 5, 6, 11]\n"
          ]
        }
      ]
    },
    {
      "cell_type": "markdown",
      "source": [
        "Neste exemplo, uma nova lista soma1 é criada a partir de A somando-se 1 a cada elemento. A sintaxe da forma compacta pode ser expressa da seguinte forma: NovaLista = [ Elemento for Variavel in VelhaLista if Condicao ] No Exemplo anterior, seria:"
      ],
      "metadata": {
        "id": "LEVgEKNDI2P_"
      }
    },
    {
      "cell_type": "code",
      "source": [
        "A = [3, 4, 5, 10]\n",
        "soma1 = [i + 1 for i in A]\n",
        "print(soma1)"
      ],
      "metadata": {
        "colab": {
          "base_uri": "https://localhost:8080/"
        },
        "id": "gr8FzJ-II4xo",
        "outputId": "afbd8d42-a92f-498a-eca2-c3334ef21a44"
      },
      "execution_count": 46,
      "outputs": [
        {
          "output_type": "stream",
          "name": "stdout",
          "text": [
            "[4, 5, 6, 11]\n"
          ]
        }
      ]
    },
    {
      "cell_type": "markdown",
      "source": [
        "É possível também usar a forma compacta com condições"
      ],
      "metadata": {
        "id": "_jvmOLHsI7FP"
      }
    },
    {
      "cell_type": "code",
      "source": [
        "A = [0, 0, 5, 3, 2, 7, 4, 10, 4, 7]\n",
        "N = list()\n",
        "for i in A:\n",
        "  N += [i*1]\n",
        "  print(N)"
      ],
      "metadata": {
        "colab": {
          "base_uri": "https://localhost:8080/"
        },
        "id": "M1R7EReeI9Gm",
        "outputId": "97845737-83cd-4bd1-89d6-82f878af00c2"
      },
      "execution_count": 47,
      "outputs": [
        {
          "output_type": "stream",
          "name": "stdout",
          "text": [
            "[0]\n",
            "[0, 0]\n",
            "[0, 0, 5]\n",
            "[0, 0, 5, 3]\n",
            "[0, 0, 5, 3, 2]\n",
            "[0, 0, 5, 3, 2, 7]\n",
            "[0, 0, 5, 3, 2, 7, 4]\n",
            "[0, 0, 5, 3, 2, 7, 4, 10]\n",
            "[0, 0, 5, 3, 2, 7, 4, 10, 4]\n",
            "[0, 0, 5, 3, 2, 7, 4, 10, 4, 7]\n"
          ]
        }
      ]
    },
    {
      "cell_type": "markdown",
      "source": [
        "Aula 18/03"
      ],
      "metadata": {
        "id": "dWl9EblwI_Zm"
      }
    },
    {
      "cell_type": "code",
      "source": [
        "#Faça um programa que pergunte que\n",
        "\n",
        "dia_atual = int(input(\"digite o dia atual:\"))\n",
        "mes = 31\n",
        "dias_faltantes = mes - dia_atual\n",
        "print(\"Faltam: \", dias_faltantes)"
      ],
      "metadata": {
        "colab": {
          "base_uri": "https://localhost:8080/"
        },
        "id": "bLgr7fGzJB8u",
        "outputId": "7902df13-2426-418c-cfda-f2a0df49e923"
      },
      "execution_count": 49,
      "outputs": [
        {
          "output_type": "stream",
          "name": "stdout",
          "text": [
            "digite o dia atual:23\n",
            "Faltam:  8\n"
          ]
        }
      ]
    },
    {
      "cell_type": "code",
      "source": [
        "# 1)  Manipulação de lista:\n",
        "# Inversão e ordernação, criar uma lista de 1 a 100 em seguida inverta a ordem\n",
        "\n",
        "lista = list(range(1, 101))\n",
        "lista.reverse()\n",
        "print(lista)"
      ],
      "metadata": {
        "colab": {
          "base_uri": "https://localhost:8080/"
        },
        "id": "en8BM6blJMdQ",
        "outputId": "849cf991-8056-4be4-90bb-16e62be7382c"
      },
      "execution_count": 50,
      "outputs": [
        {
          "output_type": "stream",
          "name": "stdout",
          "text": [
            "[100, 99, 98, 97, 96, 95, 94, 93, 92, 91, 90, 89, 88, 87, 86, 85, 84, 83, 82, 81, 80, 79, 78, 77, 76, 75, 74, 73, 72, 71, 70, 69, 68, 67, 66, 65, 64, 63, 62, 61, 60, 59, 58, 57, 56, 55, 54, 53, 52, 51, 50, 49, 48, 47, 46, 45, 44, 43, 42, 41, 40, 39, 38, 37, 36, 35, 34, 33, 32, 31, 30, 29, 28, 27, 26, 25, 24, 23, 22, 21, 20, 19, 18, 17, 16, 15, 14, 13, 12, 11, 10, 9, 8, 7, 6, 5, 4, 3, 2, 1]\n"
          ]
        }
      ]
    },
    {
      "cell_type": "code",
      "source": [
        "vetor = ['UDF']\n",
        "vetor [0:3]"
      ],
      "metadata": {
        "colab": {
          "base_uri": "https://localhost:8080/"
        },
        "id": "HXaLUds_JOVu",
        "outputId": "464931eb-d32e-47fd-eb36-46a30f8334b5"
      },
      "execution_count": 51,
      "outputs": [
        {
          "output_type": "execute_result",
          "data": {
            "text/plain": [
              "['UDF']"
            ]
          },
          "metadata": {},
          "execution_count": 51
        }
      ]
    },
    {
      "cell_type": "markdown",
      "source": [
        " 1. Implementação de Lista Encadeada para Gerenciamento de Tarefas"
      ],
      "metadata": {
        "id": "oZzVwtuVJTdn"
      }
    },
    {
      "cell_type": "code",
      "source": [
        "class tarefa:\n",
        "  def __init__(self, nome):\n",
        "    self.nome = nome\n",
        "    self.proxima = None\n",
        "\n",
        "class listaencandeada:\n",
        "  def __init__(self):\n",
        "    self.head = None\n",
        "\n",
        "  def adicionar_tarefa(self,nome):\n",
        "    nova_tarefa = tarefa(nome)\n",
        "    nova_tarefa.proxima = self.head\n",
        "    self.head = nova_tarefa\n",
        "\n",
        "  def remover_tarefa(self, nome):\n",
        "    atual = self.head\n",
        "    anterior = None\n",
        "\n",
        "    while atual and atual.nome != nome:\n",
        "      anterior = atual\n",
        "      atual = atual.proxima\n",
        "\n",
        "    if atual:\n",
        "      if anterior:\n",
        "        anterior.proxima = atual.proxima\n",
        "      else:\n",
        "        self.head = atual.proxima\n",
        "      print(\"Tarefa não encontrada\")\n",
        "\n",
        "  def mostrar_tarefa(self):\n",
        "    atual = self.head\n",
        "    while atual:\n",
        "      print(atual.nome)\n",
        "      atual = atual.proxima\n",
        "\n",
        "\n",
        "lista_tarefas = listaencandeada()\n",
        "lista_tarefas.adicionar_tarefa(\"Estudar Python\")\n",
        "lista_tarefas.adicionar_tarefa(\"Estudar POO\")\n",
        "print('Tarefas iniciais: ')\n",
        "lista_tarefas.mostrar_tarefa()\n",
        "\n",
        "lista_tarefas.remover_tarefa(\"Estudar POO\")\n",
        "print('Tarefas após remoção: ')\n",
        "lista_tarefas.mostrar_tarefa()"
      ],
      "metadata": {
        "colab": {
          "base_uri": "https://localhost:8080/"
        },
        "id": "ZdQWdWzOJUPZ",
        "outputId": "e320adea-024e-4a9a-a4d9-4837aabdc014"
      },
      "execution_count": 52,
      "outputs": [
        {
          "output_type": "stream",
          "name": "stdout",
          "text": [
            "Tarefas iniciais: \n",
            "Estudar POO\n",
            "Estudar Python\n",
            "Tarefa não encontrada\n",
            "Tarefas após remoção: \n",
            "Estudar Python\n"
          ]
        }
      ]
    },
    {
      "cell_type": "markdown",
      "source": [
        "2. Agenda Telefônica com Lista Duplamente Encadeada"
      ],
      "metadata": {
        "id": "YpOE4ynAJfFW"
      }
    },
    {
      "cell_type": "code",
      "source": [
        "class Contato:\n",
        "    def __init__(self, nome, telefone):\n",
        "        self.nome = nome\n",
        "        self.telefone = telefone\n",
        "        self.proximo = None\n",
        "        self.anterior = None\n",
        "\n",
        "class ListaDuplamenteEncadeada:\n",
        "    def __init__(self):\n",
        "        self.head = None\n",
        "\n",
        "    def adicionar_contato(self, nome, telefone):\n",
        "        novo_contato = Contato(nome, telefone)\n",
        "        novo_contato.proximo = self.head\n",
        "\n",
        "        if self.head:\n",
        "            self.head.anterior = novo_contato\n",
        "\n",
        "        self.head = novo_contato\n",
        "\n",
        "    def remover_contato(self, nome):\n",
        "        atual = self.head\n",
        "\n",
        "        while atual and atual.nome != nome:\n",
        "            atual = atual.proximo\n",
        "\n",
        "        if atual:\n",
        "            if atual.anterior:\n",
        "                atual.anterior.proximo = atual.proximo\n",
        "            if atual.proximo:\n",
        "                atual.proximo.anterior = atual.anterior\n",
        "            if atual == self.head:\n",
        "                self.head = atual.proximo\n",
        "\n",
        "    def buscar_contato(self, nome):\n",
        "        atual = self.head\n",
        "        while atual:\n",
        "            if atual.nome == nome:\n",
        "                return f\"Contato encontrado: {atual.nome}, {atual.telefone}\"\n",
        "            atual = atual.proximo\n",
        "        return \"Contato não encontrado\"\n",
        "\n",
        "# Instanciando a lista e adicionando contatos\n",
        "agenda = ListaDuplamenteEncadeada()\n",
        "agenda.adicionar_contato(\"João\", \"123456789\")\n",
        "agenda.adicionar_contato(\"Maria\", \"987654321\")\n",
        "print(agenda.buscar_contato(\"João\"))\n",
        "agenda.remover_contato(\"Maria\")\n",
        "print(agenda.buscar_contato(\"Maria\"))"
      ],
      "metadata": {
        "colab": {
          "base_uri": "https://localhost:8080/"
        },
        "id": "Z_sAylu4JhHO",
        "outputId": "fb2e9df1-2121-4d4a-9522-d227a94cca86"
      },
      "execution_count": 53,
      "outputs": [
        {
          "output_type": "stream",
          "name": "stdout",
          "text": [
            "Contato encontrado: João, 123456789\n",
            "Contato não encontrado\n"
          ]
        }
      ]
    },
    {
      "cell_type": "markdown",
      "source": [
        "3. Controle de Histórico de Navegação"
      ],
      "metadata": {
        "id": "PuICtcuhJnhv"
      }
    },
    {
      "cell_type": "code",
      "source": [
        "class Pagina:\n",
        "    def __init__(self, url):\n",
        "        self.url = url\n",
        "        self.proxima = None\n",
        "        self.anterior = None\n",
        "\n",
        "class Historico:\n",
        "    def __init__(self):\n",
        "        self.atual = None\n",
        "\n",
        "    def visitar_pagina(self, url):\n",
        "        nova_pagina = Pagina(url)\n",
        "        if self.atual:\n",
        "            self.atual.proxima = nova_pagina\n",
        "            nova_pagina.anterior = self.atual\n",
        "        self.atual = nova_pagina\n",
        "        print(f'Visitado: {self.atual.url}')\n",
        "\n",
        "    def voltar(self):\n",
        "        if self.atual and self.atual.anterior:\n",
        "            self.atual = self.atual.anterior\n",
        "            print(f'Voltando para: {self.atual.url}')\n",
        "        else:\n",
        "            print('Não há página anterior.')\n",
        "\n",
        "    def avancar(self):\n",
        "        if self.atual and self.atual.proxima:\n",
        "            self.atual = self.atual.proxima\n",
        "            print(f'Avançando para: {self.atual.url}')\n",
        "        else:\n",
        "            print('Não há página seguinte.')\n",
        "\n",
        "# Teste\n",
        "historico = Historico()\n",
        "historico.visitar_pagina(\"pagina1.com\")\n",
        "historico.visitar_pagina(\"pagina2.com\")\n",
        "historico.visitar_pagina(\"pagina3.com\")\n",
        "historico.voltar()\n",
        "historico.avancar()\n",
        "historico.avancar()\n",
        "historico.avancar()\n",
        "historico.voltar()"
      ],
      "metadata": {
        "colab": {
          "base_uri": "https://localhost:8080/"
        },
        "id": "uZsipSVFJpQG",
        "outputId": "44d36dd3-aede-46fe-ac5b-1542b34a08af"
      },
      "execution_count": 54,
      "outputs": [
        {
          "output_type": "stream",
          "name": "stdout",
          "text": [
            "Visitado: pagina1.com\n",
            "Visitado: pagina2.com\n",
            "Visitado: pagina3.com\n",
            "Voltando para: pagina2.com\n",
            "Avançando para: pagina3.com\n",
            "Não há página seguinte.\n",
            "Não há página seguinte.\n",
            "Voltando para: pagina2.com\n"
          ]
        }
      ]
    },
    {
      "cell_type": "markdown",
      "source": [
        "4. Sistema de Impressão de Documentos"
      ],
      "metadata": {
        "id": "LfqOIf6jJzbP"
      }
    },
    {
      "cell_type": "code",
      "source": [
        "class Documento:\n",
        "    def __init__(self, nome):\n",
        "        self.nome = nome\n",
        "        self.proximo = None\n",
        "\n",
        "class FilaImpressao:\n",
        "    def __init__(self):\n",
        "        self.head = None\n",
        "        self.tail = None\n",
        "\n",
        "    def adicionar_documento(self, nome):\n",
        "        novo_documento = Documento(nome)\n",
        "        if not self.head:\n",
        "            self.head = novo_documento\n",
        "            self.tail = novo_documento\n",
        "        else:\n",
        "            self.tail.proximo = novo_documento\n",
        "            self.tail = novo_documento\n",
        "        print(f\"Documento '{nome}' adicionado à fila.\")\n",
        "\n",
        "    def imprimir_documento(self):\n",
        "        if self.head:\n",
        "            documento_impresso = self.head.nome\n",
        "            self.head = self.head.proximo\n",
        "            if not self.head:\n",
        "                self.tail = None\n",
        "            print(f\"Imprimindo documento: {documento_impresso}\")\n",
        "            return documento_impresso\n",
        "        else:\n",
        "            print(\"A fila de impressão está vazia.\")\n",
        "            return None\n",
        "\n",
        "    def mostrar_fila(self):\n",
        "        atual = self.head\n",
        "        if not atual:\n",
        "            print(\"A fila de impressão está vazia.\")\n",
        "            return\n",
        "        print(\"Fila de impressão:\")\n",
        "        while atual:\n",
        "            print(f\"- {atual.nome}\")\n",
        "            atual = atual.proximo\n",
        "\n",
        "# Exemplo de uso\n",
        "fila = FilaImpressao()\n",
        "fila.adicionar_documento(\"Relatório Financeiro\")\n",
        "fila.adicionar_documento(\"Apresentação de Vendas\")\n",
        "fila.adicionar_documento(\"Contrato\")\n",
        "\n",
        "fila.mostrar_fila()\n",
        "fila.imprimir_documento()\n",
        "fila.mostrar_fila()\n",
        "fila.imprimir_documento()\n",
        "fila.imprimir_documento()\n",
        "fila.imprimir_documento()"
      ],
      "metadata": {
        "colab": {
          "base_uri": "https://localhost:8080/"
        },
        "id": "VICCduzdJ39G",
        "outputId": "ffe755b9-dd0c-49f7-90ff-031f3de75122"
      },
      "execution_count": 55,
      "outputs": [
        {
          "output_type": "stream",
          "name": "stdout",
          "text": [
            "Documento 'Relatório Financeiro' adicionado à fila.\n",
            "Documento 'Apresentação de Vendas' adicionado à fila.\n",
            "Documento 'Contrato' adicionado à fila.\n",
            "Fila de impressão:\n",
            "- Relatório Financeiro\n",
            "- Apresentação de Vendas\n",
            "- Contrato\n",
            "Imprimindo documento: Relatório Financeiro\n",
            "Fila de impressão:\n",
            "- Apresentação de Vendas\n",
            "- Contrato\n",
            "Imprimindo documento: Apresentação de Vendas\n",
            "Imprimindo documento: Contrato\n",
            "A fila de impressão está vazia.\n"
          ]
        }
      ]
    },
    {
      "cell_type": "markdown",
      "source": [
        "5. Autocomplete em Buscas"
      ],
      "metadata": {
        "id": "4zKcZaCJKE0W"
      }
    },
    {
      "cell_type": "code",
      "source": [
        "class Node:\n",
        "    def __init__(self, data):\n",
        "        self.data = data\n",
        "        self.proximo = None\n",
        "\n",
        "class ListaEncadeadaAutocomplete:\n",
        "    def __init__(self):\n",
        "        self.head = None\n",
        "\n",
        "    def adicionar_palavra(self, palavra):\n",
        "        novo_node = Node(palavra)\n",
        "        if not self.head:\n",
        "            self.head = novo_node\n",
        "        else:\n",
        "            atual = self.head\n",
        "            while atual.proximo:\n",
        "                atual = atual.proximo\n",
        "            atual.proximo = novo_node\n",
        "\n",
        "    def sugerir_palavras(self, prefixo):\n",
        "        sugestoes = []\n",
        "        atual = self.head\n",
        "        while atual:\n",
        "            if atual.data.startswith(prefixo):\n",
        "                sugestoes.append(atual.data)\n",
        "            atual = atual.proximo\n",
        "        return sugestoes\n",
        "\n",
        "# Exemplo de uso\n",
        "autocomplete = ListaEncadeadaAutocomplete()\n",
        "autocomplete.adicionar_palavra(\"apple\")\n",
        "autocomplete.adicionar_palavra(\"apricot\")\n",
        "autocomplete.adicionar_palavra(\"banana\")\n",
        "autocomplete.adicionar_palavra(\"grape\")\n",
        "autocomplete.adicionar_palavra(\"application\")\n",
        "\n",
        "print(f\"Sugestões para 'ap': {autocomplete.sugerir_palavras('ap')}\")\n",
        "print(f\"Sugestões para 'ba': {autocomplete.sugerir_palavras('ba')}\")\n",
        "print(f\"Sugestões para 'g': {autocomplete.sugerir_palavras('g')}\")\n",
        "print(f\"Sugestões para 'or': {autocomplete.sugerir_palavras('or')}\")"
      ],
      "metadata": {
        "colab": {
          "base_uri": "https://localhost:8080/"
        },
        "id": "1KOLmSeDKGOo",
        "outputId": "b825f0fa-1344-483d-957f-92f508b26a52"
      },
      "execution_count": 56,
      "outputs": [
        {
          "output_type": "stream",
          "name": "stdout",
          "text": [
            "Sugestões para 'ap': ['apple', 'apricot', 'application']\n",
            "Sugestões para 'ba': ['banana']\n",
            "Sugestões para 'g': ['grape']\n",
            "Sugestões para 'or': []\n"
          ]
        }
      ]
    },
    {
      "cell_type": "markdown",
      "source": [
        "AULA 15/04\n",
        "\n",
        "REVISÃO: 3 PROBRLEMAS\n",
        "\n",
        "FILA\n",
        "PILHA\n",
        "LISTA"
      ],
      "metadata": {
        "id": "ZWSmsfXqLYku"
      }
    },
    {
      "cell_type": "code",
      "source": [
        "#Passo 1: Criando uma lista vazia para armazenar os IDs das naves alienigenas\n",
        "\n",
        "\n",
        "naves_alienigenas = []\n",
        "\n",
        "#Passo 2: Asicionando IDs de naves detectadas\n",
        "\n",
        "\n",
        "naves_alienigenas.append('NaveAlfa-01')\n",
        "naves_alienigenas.append('NaveAlfa-05')\n",
        "naves_alienigenas.append('NaveAlfa-12')\n",
        "\n",
        "#Passo 3: Acessando o ID da primeira nave detectada\n",
        "\n",
        "primeira_nave = naves_alienigenas[0]\n",
        "print(f\"A primeira nave detectada foi: {primeira_nave}\")\n",
        "\n",
        "#Passo 4: Modificando o ID de uma nave(Correção)\n",
        "\n",
        "naves_alienigenas[1] = 'NaveAlfa-06'\n",
        "print(f\"A nova lista de naves alienigenas é: {naves_alienigenas}\")\n",
        "\n",
        "#Passo 5: Removendo uma nave que deixou a órbita\n",
        "\n",
        "naves_alienigenas.remove('NaveAlfa-01')\n",
        "print(f\"A lista atualizada de naves alienigenas é: {naves_alienigenas}\")\n",
        "\n",
        "\n",
        "#Passo 6: Verificando quantas naves ainda estão presentes\n",
        "\n",
        "total_naves = len(naves_alienigenas)\n",
        "print(f\"Ainda existem {total_naves} naves alienigenas na lista.\")\n",
        "\n",
        "#"
      ],
      "metadata": {
        "colab": {
          "base_uri": "https://localhost:8080/"
        },
        "id": "ySaNwpceLZae",
        "outputId": "150f9b85-f3bd-4e19-9d69-6d5ee85c5cfb"
      },
      "execution_count": 57,
      "outputs": [
        {
          "output_type": "stream",
          "name": "stdout",
          "text": [
            "A primeira nave detectada foi: NaveAlfa-01\n",
            "A nova lista de naves alienigenas é: ['NaveAlfa-01', 'NaveAlfa-06', 'NaveAlfa-12']\n",
            "A lista atualizada de naves alienigenas é: ['NaveAlfa-06', 'NaveAlfa-12']\n",
            "Ainda existem 2 naves alienigenas na lista.\n"
          ]
        }
      ]
    },
    {
      "cell_type": "code",
      "source": [
        "from collections import deque\n",
        "\n",
        "#Passo 1: Criando uma fila vazia para as tarefas de expedição\n",
        "\n",
        "fila_de_tarefa = deque()\n",
        "\n",
        "#Passo 2: Adicionando tarefa a fila (enqueue)\n",
        "\n",
        "fila_de_tarefa.append('Verificar painéis solares')\n",
        "fila_de_tarefa.append('Realizar experimento de gravidade')\n",
        "fila_de_tarefa.append('Comunicar com a base terrestre')\n",
        "print(f\"Fila de tarefas atualizada: {fila_de_tarefa}\")\n",
        "\n",
        "#Passo 3: Executando uma tarefa da fila (dequeue)\n",
        "\n",
        "proxima_tarefa = fila_de_tarefa.popleft()\n",
        "print(f\"Executando a próxima tarefa: {proxima_tarefa}\")\n",
        "\n",
        "#Passo 4: Verificando o tamanho da fila\n",
        "\n",
        "total_tarefas_restantes = len(fila_de_tarefa)\n",
        "print(f\"Ainda existem {total_tarefas_restantes} tarefas na fila.\")\n",
        "\n",
        "#Passo 5: Verificando se a fila está vazia\n",
        "\n",
        "if not fila_de_tarefa:\n",
        "  print('Todas as tarefas foram concluídas')\n",
        "else:\n",
        "  print('Ainda existem tarefas na fila')"
      ],
      "metadata": {
        "colab": {
          "base_uri": "https://localhost:8080/"
        },
        "id": "-lv7B814LfhP",
        "outputId": "ba8ffba5-3281-40ed-a087-14f50a36909a"
      },
      "execution_count": 58,
      "outputs": [
        {
          "output_type": "stream",
          "name": "stdout",
          "text": [
            "Fila de tarefas atualizada: deque(['Verificar painéis solares', 'Realizar experimento de gravidade', 'Comunicar com a base terrestre'])\n",
            "Executando a próxima tarefa: Verificar painéis solares\n",
            "Ainda existem 2 tarefas na fila.\n",
            "Ainda existem tarefas na fila\n"
          ]
        }
      ]
    },
    {
      "cell_type": "code",
      "source": [
        "fila_de_atendimento = deque()\n",
        "\n",
        "fila_de_atendimento.append('João')\n",
        "fila_de_atendimento.append('Maria')\n",
        "fila_de_atendimento.append('Pedro')\n",
        "\n",
        "print(f\"Fila de atendimento atualizada: {fila_de_atendimento}\")\n",
        "\n",
        "proximo_alienigena = fila_de_atendimento.popleft()\n",
        "print(f\"Próximo alienigena a ser atendido: {proximo_alienigena}\")\n",
        "print(f\"Fila de atendimento atualizada: {fila_de_atendimento}\")"
      ],
      "metadata": {
        "colab": {
          "base_uri": "https://localhost:8080/"
        },
        "id": "MVu90hv9Lij1",
        "outputId": "9592dd2c-4380-45a5-a4a9-c53e32e475d7"
      },
      "execution_count": 59,
      "outputs": [
        {
          "output_type": "stream",
          "name": "stdout",
          "text": [
            "Fila de atendimento atualizada: deque(['João', 'Maria', 'Pedro'])\n",
            "Próximo alienigena a ser atendido: João\n",
            "Fila de atendimento atualizada: deque(['Maria', 'Pedro'])\n"
          ]
        }
      ]
    },
    {
      "cell_type": "code",
      "source": [
        "#Passo 1: Criando uma pilha vazia para as amostras coletadas\n",
        "\n",
        "pilha_de_amostra = []\n",
        "\n",
        "#Passo 2: Adicionando amostras a pilha(push)\n",
        "\n",
        "pilha_de_amostra.append('Amostra1')\n",
        "pilha_de_amostra.append('Amostra2')\n",
        "pilha_de_amostra.append('Amostra3')\n",
        "print(f\"Pilha de amostras atualizada: {pilha_de_amostra}\")\n",
        "\n",
        "#Passo 3: analisando a ultima amostra coletada(pop)\n",
        "\n",
        "ultima_amostra = pilha_de_amostra.pop()\n",
        "print(f\"Analisando a última amostra coletada: {ultima_amostra}\")\n",
        "print(f\"Pilha de amostras atualizada: {pilha_de_amostra}\")\n",
        "\n",
        "#Passo 4: Verificando o tamanho da pilha\n",
        "\n",
        "total_amostras = len(pilha_de_amostra)\n",
        "print(f\"Ainda existem {total_amostras} amostras na pilha.\")\n",
        "\n",
        "#Passo 5: Verificando se a pilha esta vazia\n",
        "\n",
        "if not pilha_de_amostra:\n",
        "  print('Todas as amostras foram analisadas')\n",
        "else:\n",
        "  print('Ainda existem amostras na pilha')"
      ],
      "metadata": {
        "colab": {
          "base_uri": "https://localhost:8080/"
        },
        "id": "J8ZLgZ5-Ll79",
        "outputId": "ffad8e48-586f-4550-d4b8-9492740b8bdc"
      },
      "execution_count": 60,
      "outputs": [
        {
          "output_type": "stream",
          "name": "stdout",
          "text": [
            "Pilha de amostras atualizada: ['Amostra1', 'Amostra2', 'Amostra3']\n",
            "Analisando a última amostra coletada: Amostra3\n",
            "Pilha de amostras atualizada: ['Amostra1', 'Amostra2']\n",
            "Ainda existem 2 amostras na pilha.\n",
            "Ainda existem amostras na pilha\n"
          ]
        }
      ]
    },
    {
      "cell_type": "code",
      "source": [
        "reculos_alienigenas = []\n",
        "reculos_alienigenas.append('NaveBeta-01')\n",
        "reculos_alienigenas.append('NaveBeta-02')\n",
        "reculos_alienigenas.append('NaveBeta-03')\n",
        "\n",
        "print(f'Recuos alienigenas detectados: {reculos_alienigenas}')\n",
        "\n",
        "ultima_nave_recuada = reculos_alienigenas.pop()\n",
        "print(f'A última nave recuada foi: {ultima_nave_recuada}')\n",
        "print(f'Recuos alienigenas restantes: {reculos_alienigenas}')\n",
        "\n",
        "if not reculos_alienigenas:\n",
        "  print('Todos os recuos foram recuperados')\n",
        "else:\n",
        "  print('Ainda existem recuos não recuperados')"
      ],
      "metadata": {
        "colab": {
          "base_uri": "https://localhost:8080/"
        },
        "id": "fW_7ymRaLm5o",
        "outputId": "328d3c73-0adc-4727-b518-fb5073405861"
      },
      "execution_count": 61,
      "outputs": [
        {
          "output_type": "stream",
          "name": "stdout",
          "text": [
            "Recuos alienigenas detectados: ['NaveBeta-01', 'NaveBeta-02', 'NaveBeta-03']\n",
            "A última nave recuada foi: NaveBeta-03\n",
            "Recuos alienigenas restantes: ['NaveBeta-01', 'NaveBeta-02']\n",
            "Ainda existem recuos não recuperados\n"
          ]
        }
      ]
    },
    {
      "cell_type": "markdown",
      "source": [
        "AULA 22/4"
      ],
      "metadata": {
        "id": "g_vMrjO5Lqvd"
      }
    },
    {
      "cell_type": "code",
      "source": [
        "catalogo_magico = []\n",
        "\n",
        "def adicionar_livro(catalogo, livro):\n",
        "  catalogo.append(livro)\n",
        "  print(f\"Livro '{livro}' adicionado ao catálogo mágico.\")\n",
        "\n",
        "\n",
        "adicionar_livro(catalogo_magico, 'Harry Potter')\n",
        "adicionar_livro(catalogo_magico, 'O Senhor dos Anéis')\n",
        "\n",
        "print(catalogo_magico)\n",
        "\n",
        "\n",
        "def buscar_livro(catalogo, index):\n",
        "  if index in catalogo:\n",
        "    print(f\"Livro '{index}' encontrado no catálogo mágico.\")\n",
        "  else:\n",
        "    print(f\"Livro não encontrado no catálogo mágico.\")\n",
        "\n",
        "\n",
        "buscar_livro(catalogo_magico, 1)"
      ],
      "metadata": {
        "colab": {
          "base_uri": "https://localhost:8080/"
        },
        "id": "9G7skQM5Lrbw",
        "outputId": "a52e14d3-a199-42a9-9b62-84d674681153"
      },
      "execution_count": 62,
      "outputs": [
        {
          "output_type": "stream",
          "name": "stdout",
          "text": [
            "Livro 'Harry Potter' adicionado ao catálogo mágico.\n",
            "Livro 'O Senhor dos Anéis' adicionado ao catálogo mágico.\n",
            "['Harry Potter', 'O Senhor dos Anéis']\n",
            "Livro não encontrado no catálogo mágico.\n"
          ]
        }
      ]
    },
    {
      "cell_type": "code",
      "source": [],
      "metadata": {
        "id": "aqPkbK16Ltox"
      },
      "execution_count": null,
      "outputs": []
    }
  ]
}