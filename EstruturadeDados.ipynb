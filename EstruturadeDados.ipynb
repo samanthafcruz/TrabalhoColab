{
  "nbformat": 4,
  "nbformat_minor": 0,
  "metadata": {
    "colab": {
      "provenance": [],
      "authorship_tag": "ABX9TyPqXmlgG85B0rNn6Fu8ejxE",
      "include_colab_link": true
    },
    "kernelspec": {
      "name": "python3",
      "display_name": "Python 3"
    },
    "language_info": {
      "name": "python"
    }
  },
  "cells": [
    {
      "cell_type": "markdown",
      "metadata": {
        "id": "view-in-github",
        "colab_type": "text"
      },
      "source": [
        "<a href=\"https://colab.research.google.com/github/samanthafcruz/TrabalhoColab/blob/main/EstruturadeDados.ipynb\" target=\"_parent\"><img src=\"https://colab.research.google.com/assets/colab-badge.svg\" alt=\"Open In Colab\"/></a>"
      ]
    },
    {
      "cell_type": "markdown",
      "source": [
        "\n",
        "Atividade 01/04 (Página 46)\n",
        "\n",
        "1) Vetor de inteiros"
      ],
      "metadata": {
        "id": "52l3iE1Xjrpq"
      }
    },
    {
      "cell_type": "code",
      "execution_count": null,
      "metadata": {
        "colab": {
          "base_uri": "https://localhost:8080/"
        },
        "id": "LEBcvk1cepa8",
        "outputId": "b018e54d-f29e-4433-c349-8a38782c88ac"
      },
      "outputs": [
        {
          "output_type": "stream",
          "name": "stdout",
          "text": [
            "Vetor de inteiros:\n",
            "10\n",
            "20\n",
            "30\n",
            "40\n",
            "50\n",
            "60\n",
            "70\n",
            "80\n",
            "90\n",
            "100\n"
          ]
        }
      ],
      "source": [
        "# 1) Vetor de 10 posições com valores de 10 em 10\n",
        "\n",
        "vetor = []\n",
        "\n",
        "# Preenchendo o vetor\n",
        "for i in range(1, 11):\n",
        "    vetor.append(i * 10)\n",
        "\n",
        "# Exibindo o vetor\n",
        "print(\"Vetor de inteiros:\")\n",
        "for valor in vetor:\n",
        "    print(valor)"
      ]
    },
    {
      "cell_type": "markdown",
      "source": [
        "2) Matriz de caracteres"
      ],
      "metadata": {
        "id": "A-ewYOfYjQPz"
      }
    },
    {
      "cell_type": "code",
      "source": [
        "# 2) Criar e preencher a matriz 4x4\n",
        "matriz = [\n",
        "    ['a', 'b', 'c', 'd'],\n",
        "    ['e', 'f', 'g', 'h'],\n",
        "    ['i', 'j', 'k', 'l'],\n",
        "    ['m', 'n', 'o', 'p']\n",
        "]\n",
        "\n",
        "# Exibir os valores da matriz\n",
        "for i in range(4):\n",
        "    for j in range(4):\n",
        "        print(matriz[i][j], end=' ')\n",
        "    print()  # Para pular para a próxima linha após cada linha da matriz"
      ],
      "metadata": {
        "colab": {
          "base_uri": "https://localhost:8080/"
        },
        "id": "hydtw85hfR3q",
        "outputId": "78fdab35-d422-41ff-a017-5bf967d0fc42"
      },
      "execution_count": null,
      "outputs": [
        {
          "output_type": "stream",
          "name": "stdout",
          "text": [
            "a b c d \n",
            "e f g h \n",
            "i j k l \n",
            "m n o p \n"
          ]
        }
      ]
    },
    {
      "cell_type": "markdown",
      "source": [
        "3) Procurar elemento em vetor"
      ],
      "metadata": {
        "id": "rW8LCQ-UjT4s"
      }
    },
    {
      "cell_type": "code",
      "source": [
        "# 3) Procurar valor em vetor\n",
        "\n",
        "# Vetor com 10 elementos inteiros positivos\n",
        "vetor = [10, 20, 30, 40, 50, 60, 70, 80, 90, 100]\n",
        "\n",
        "# Solicitar um valor ao usuário\n",
        "valor_procurado = int(input(\"Digite um valor para procurar no vetor: \"))\n",
        "\n",
        "# Verificar se o valor existe no vetor\n",
        "if valor_procurado in vetor:\n",
        "    print(\"Valor encontrado no índice:\", vetor.index(valor_procurado))\n",
        "else:\n",
        "    print(\"Valor não encontrado.\")"
      ],
      "metadata": {
        "colab": {
          "base_uri": "https://localhost:8080/"
        },
        "id": "DmH8abHOfZ5h",
        "outputId": "a64acb34-6ca2-46d9-814b-8867c4adb113"
      },
      "execution_count": null,
      "outputs": [
        {
          "output_type": "stream",
          "name": "stdout",
          "text": [
            "Digite um valor para procurar no vetor: 10\n",
            "Valor encontrado no índice: 0\n"
          ]
        }
      ]
    },
    {
      "cell_type": "markdown",
      "source": [
        "4) Soma dos elementos da linha de uma matriz"
      ],
      "metadata": {
        "id": "lETPFEh7jYgc"
      }
    },
    {
      "cell_type": "code",
      "source": [
        "# 4) Soma dos elementos de cada linha da matriz 3x3\n",
        "\n",
        "# Criar uma matriz 3x3 com elementos reais positivos\n",
        "matriz = [\n",
        "    [1.0, 2.0, 3.0],\n",
        "    [4.0, 5.0, 6.0],\n",
        "    [7.0, 8.0, 9.0]\n",
        "]\n",
        "\n",
        "# Calcular e exibir a soma dos elementos de cada linha\n",
        "for i in range(3):\n",
        "    soma = sum(matriz[i])\n",
        "    print(\"Soma da linha\", i + 1, \":\", soma)"
      ],
      "metadata": {
        "colab": {
          "base_uri": "https://localhost:8080/"
        },
        "id": "3sRE2efsflyx",
        "outputId": "2461c315-84be-468f-eb12-bb266ded7611"
      },
      "execution_count": null,
      "outputs": [
        {
          "output_type": "stream",
          "name": "stdout",
          "text": [
            "Soma da linha 1 : 6.0\n",
            "Soma da linha 2 : 15.0\n",
            "Soma da linha 3 : 24.0\n"
          ]
        }
      ]
    },
    {
      "cell_type": "markdown",
      "source": [
        "5) Maior elemento da matriz"
      ],
      "metadata": {
        "id": "4_2sPLIRjbgE"
      }
    },
    {
      "cell_type": "code",
      "source": [
        "# 5) Encontrar o maior elemento da matriz 5x5\n",
        "\n",
        "# Matriz 5x5 com valores positivos e negativos\n",
        "matriz = [\n",
        "    [5, -3, 9, 2, -8],\n",
        "    [-1, 7, 4, 0, -6],\n",
        "    [3, -2, 6, -5, 8],\n",
        "    [1, 4, -7, 3, 2],\n",
        "    [0, -9, 5, 7, -4]\n",
        "]\n",
        "\n",
        "# Inicializando o maior com o primeiro elemento\n",
        "maior = matriz[0][0]\n",
        "\n",
        "# Percorrendo a matriz para encontrar o maior valor\n",
        "for linha in matriz:\n",
        "    for elemento in linha:\n",
        "        if elemento > maior:\n",
        "            maior = elemento\n",
        "\n",
        "print(f\"\\nMaior elemento da matriz: {maior}\")"
      ],
      "metadata": {
        "colab": {
          "base_uri": "https://localhost:8080/"
        },
        "id": "wxTAFTHofprZ",
        "outputId": "76aecd60-dfc2-477b-ce3a-7fa16a3f8d05"
      },
      "execution_count": null,
      "outputs": [
        {
          "output_type": "stream",
          "name": "stdout",
          "text": [
            "\n",
            "Maior elemento da matriz: 9\n"
          ]
        }
      ]
    },
    {
      "cell_type": "markdown",
      "source": [
        "ATIVIDADE 15/04/2025\n",
        "\n",
        "NOME: SAMANTHA FALCÃO DA CRUZ\n",
        "\n",
        "SEMESTRE: 2° SEMESTRE\n",
        "\n",
        "**Tema 1: A Biblioteca Mágica (Listas)**"
      ],
      "metadata": {
        "id": "zAX6IHiNgUi4"
      }
    },
    {
      "cell_type": "code",
      "source": [
        "# 1. Criar o Catálogo\n",
        "catalogo_magico = []\n",
        "\n",
        "# 2. Função para adicionar livro\n",
        "def adicionar_livro(catalogo, livro):\n",
        "    catalogo.append(livro)\n",
        "\n",
        "# Adicionando livros ao catálogo\n",
        "adicionar_livro(catalogo_magico, \"O Feitiço da Lua Crescente\")\n",
        "adicionar_livro(catalogo_magico, \"A Jornada do Unicórnio Perdido\")\n",
        "adicionar_livro(catalogo_magico, \"Segredos da Floresta Encantada\")\n",
        "\n",
        "# 3. Visualizar o Catálogo\n",
        "print(\"Catálogo Mágico:\")\n",
        "print(catalogo_magico)\n",
        "\n",
        "# 4. Buscar Livro por Posição\n",
        "def buscar_livro(catalogo, indice):\n",
        "    if 0 <= indice < len(catalogo):\n",
        "        return catalogo[indice]\n",
        "    else:\n",
        "        return \"Índice inválido.\"\n",
        "\n",
        "livro_encontrado = buscar_livro(catalogo_magico, 1)\n",
        "print(\"\\nLivro na posição 1:\")\n",
        "print(livro_encontrado)\n",
        "\n",
        "# 5. Remover Livro\n",
        "catalogo_magico.remove(\"A Jornada do Unicórnio Perdido\")\n",
        "\n",
        "# 6. Visualizar Catálogo Atualizado\n",
        "print(\"\\nCatálogo Mágico Atualizado:\")\n",
        "print(catalogo_magico)\n",
        "\n",
        "# 7. Verificar Presença de Livro\n",
        "def verificar_livro(catalogo, livro):\n",
        "    return livro in catalogo\n",
        "\n",
        "livro_verificado = \"Segredos da Floresta Encantada\"\n",
        "presenca = verificar_livro(catalogo_magico, livro_verificado)\n",
        "print(f\"\\nO livro '{livro_verificado}' está no catálogo?\")\n",
        "print(presenca)"
      ],
      "metadata": {
        "colab": {
          "base_uri": "https://localhost:8080/"
        },
        "id": "Dt3fpDc0fwng",
        "outputId": "1da691a8-6c4b-4e5c-e46a-4df048ef16e2"
      },
      "execution_count": null,
      "outputs": [
        {
          "output_type": "stream",
          "name": "stdout",
          "text": [
            "Catálogo Mágico:\n",
            "['O Feitiço da Lua Crescente', 'A Jornada do Unicórnio Perdido', 'Segredos da Floresta Encantada']\n",
            "\n",
            "Livro na posição 1:\n",
            "A Jornada do Unicórnio Perdido\n",
            "\n",
            "Catálogo Mágico Atualizado:\n",
            "['O Feitiço da Lua Crescente', 'Segredos da Floresta Encantada']\n",
            "\n",
            "O livro 'Segredos da Floresta Encantada' está no catálogo?\n",
            "True\n"
          ]
        }
      ]
    },
    {
      "cell_type": "markdown",
      "source": [
        "**Tema 2: A Fila de Atendimento dos Gnomos Artesãos (Filas)**"
      ],
      "metadata": {
        "id": "0CSx2XPuhBdo"
      }
    },
    {
      "cell_type": "code",
      "source": [
        "from collections import deque\n",
        "\n",
        "# 1. Criar a Fila\n",
        "fila_de_pedidos = deque()\n",
        "\n",
        "# 2. Adicionar Pedidos\n",
        "def adicionar_pedido(fila, pedido):\n",
        "    fila.append(pedido)\n",
        "\n",
        "# 4. Processar Pedido\n",
        "def processar_pedido(fila):\n",
        "    return fila.popleft()\n",
        "\n",
        "# 5. Verificar Fila Vazia\n",
        "def fila_vazia(fila):\n",
        "    return len(fila) == 0\n",
        "\n",
        "# Adicionando pedidos\n",
        "adicionar_pedido(fila_de_pedidos, \"Martelo Encantado\")\n",
        "adicionar_pedido(fila_de_pedidos, \"Pinça Teleportadora\")\n",
        "adicionar_pedido(fila_de_pedidos, \"Chave de Fenda Sônica\")\n",
        "\n",
        "# 6. Processar um pedido\n",
        "pedido = processar_pedido(fila_de_pedidos)\n",
        "print(\"Pedido processado:\", pedido)\n",
        "\n",
        "# Visualizar fila restante\n",
        "print(\"Fila restante:\", fila_de_pedidos)\n",
        "\n",
        "# Verificar se a fila ainda tem pedidos\n",
        "print(\"Fila vazia?\", fila_vazia(fila_de_pedidos))\n",
        "\n",
        "# 7. Processar pedidos restantes\n",
        "while not fila_vazia(fila_de_pedidos):\n",
        "    pedido = processar_pedido(fila_de_pedidos)\n",
        "    print(\"Pedido processado:\", pedido)\n",
        "\n",
        "# Verificar novamente se fila está vazia\n",
        "print(\"Fila vazia?\", fila_vazia(fila_de_pedidos))"
      ],
      "metadata": {
        "colab": {
          "base_uri": "https://localhost:8080/"
        },
        "id": "WwdCKD_xgAS5",
        "outputId": "1ac10da6-44f7-4005-a1a5-0116342c65cc"
      },
      "execution_count": null,
      "outputs": [
        {
          "output_type": "stream",
          "name": "stdout",
          "text": [
            "Pedido processado: Martelo Encantado\n",
            "Fila restante: deque(['Pinça Teleportadora', 'Chave de Fenda Sônica'])\n",
            "Fila vazia? False\n",
            "Pedido processado: Pinça Teleportadora\n",
            "Pedido processado: Chave de Fenda Sônica\n",
            "Fila vazia? True\n"
          ]
        }
      ]
    },
    {
      "cell_type": "markdown",
      "source": [
        "**Tema 3: A Torre de Cristais dos Magos do Tempo (Pilhas)**"
      ],
      "metadata": {
        "id": "akBVxw7yhlv4"
      }
    },
    {
      "cell_type": "code",
      "source": [
        "# 1. Criar a Pilha\n",
        "# Inicializamos a torre de cristais como uma lista vazia\n",
        "torre_de_cristais = []\n",
        "\n",
        "# 2. Função para empilhar cristal\n",
        "def empilhar_cristal(pilha, cristal):\n",
        "    \"\"\"\n",
        "    Adiciona um cristal ao topo da pilha.\n",
        "    \"\"\"\n",
        "    pilha.append(cristal)\n",
        "    print(f\"Cristal '{cristal}' adicionado à torre.\")\n",
        "\n",
        "# Adicionando os cristais à torre\n",
        "empilhar_cristal(torre_de_cristais, \"Cristal do Passado\")\n",
        "empilhar_cristal(torre_de_cristais, \"Cristal do Presente\")\n",
        "empilhar_cristal(torre_de_cristais, \"Cristal do Futuro\")\n",
        "\n",
        "# 3. Visualizar a Pilha\n",
        "# Imprime a pilha para ver a ordem dos cristais (o topo está no final da lista)\n",
        "print(\"\\nTorre de Cristais (do início até o topo):\")\n",
        "print(torre_de_cristais)\n",
        "\n",
        "# 4. Função para desempilhar cristal\n",
        "def desempilhar_cristal(pilha):\n",
        "    \"\"\"\n",
        "    Remove e retorna o cristal do topo da pilha.\n",
        "    \"\"\"\n",
        "    if pilha:  # Verifica se a pilha não está vazia\n",
        "        cristal = pilha.pop()\n",
        "        print(f\"\\nCristal utilizado no ritual: {cristal}\")\n",
        "        return cristal\n",
        "    else:\n",
        "        print(\"\\nA torre de cristais está vazia! Nenhum cristal para usar.\")\n",
        "        return None\n",
        "\n",
        "# Utilizando o cristal do topo\n",
        "desempilhar_cristal(torre_de_cristais)\n",
        "\n",
        "# 5. Função para verificar se a pilha está vazia\n",
        "def pilha_vazia(pilha):\n",
        "    \"\"\"\n",
        "    Retorna True se a pilha estiver vazia, caso contrário False.\n",
        "    \"\"\"\n",
        "    return len(pilha) == 0\n",
        "\n",
        "# Verificando se a pilha ainda tem cristais\n",
        "print(\"\\nA torre de cristais está vazia?\", pilha_vazia(torre_de_cristais))\n",
        "\n",
        "# 6. Ver Pilha Restante\n",
        "print(\"\\nTorre de Cristais após o ritual:\")\n",
        "print(torre_de_cristais)\n",
        "\n",
        "# 7. Desempilhar Cristais Restantes\n",
        "print(\"\\nUtilizando os cristais restantes:\")\n",
        "\n",
        "while not pilha_vazia(torre_de_cristais):\n",
        "    desempilhar_cristal(torre_de_cristais)\n",
        "\n",
        "# Verifica se a pilha está vazia ao final\n",
        "print(\"\\nA torre de cristais está vazia?\", pilha_vazia(torre_de_cristais))"
      ],
      "metadata": {
        "colab": {
          "base_uri": "https://localhost:8080/"
        },
        "id": "kvvKxaNhgCAJ",
        "outputId": "8a2e2a90-5e45-48bf-8fcf-5c853fedb7c4"
      },
      "execution_count": null,
      "outputs": [
        {
          "output_type": "stream",
          "name": "stdout",
          "text": [
            "Cristal 'Cristal do Passado' adicionado à torre.\n",
            "Cristal 'Cristal do Presente' adicionado à torre.\n",
            "Cristal 'Cristal do Futuro' adicionado à torre.\n",
            "\n",
            "Torre de Cristais (do início até o topo):\n",
            "['Cristal do Passado', 'Cristal do Presente', 'Cristal do Futuro']\n",
            "\n",
            "Cristal utilizado no ritual: Cristal do Futuro\n",
            "\n",
            "A torre de cristais está vazia? False\n",
            "\n",
            "Torre de Cristais após o ritual:\n",
            "['Cristal do Passado', 'Cristal do Presente']\n",
            "\n",
            "Utilizando os cristais restantes:\n",
            "\n",
            "Cristal utilizado no ritual: Cristal do Presente\n",
            "\n",
            "Cristal utilizado no ritual: Cristal do Passado\n",
            "\n",
            "A torre de cristais está vazia? True\n"
          ]
        }
      ]
    }
  ]
}